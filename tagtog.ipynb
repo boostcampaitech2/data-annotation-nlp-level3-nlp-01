{
 "cells": [
  {
   "cell_type": "code",
   "execution_count": null,
   "metadata": {},
   "outputs": [],
   "source": [
    "import json\n",
    "import glob\n",
    "import re\n",
    "import os\n",
    "import xlsxwriter\n",
    "import html2text"
   ]
  },
  {
   "cell_type": "code",
   "execution_count": 206,
   "metadata": {},
   "outputs": [],
   "source": [
    "#폴더 경로\n",
    "folder_name = \"./tagtog_relation_extraction/RE-Data/\"\n",
    "\n",
    "#context list\n",
    "context_name_list = os.listdir(folder_name + \"ann.json/master/pool\")\n",
    "\n",
    "#relation 폴더 경로\n",
    "relation_folder_paths = glob.glob(folder_name + \"ann.json/master/pool/*\")\n",
    "\n",
    "#context 폴더 경로\n",
    "# contexts_folders_paths = glob.glob(folder_name + \"plain.html/pool/*\")\n",
    "contexts_folders_paths = [folder_name + \"plain.html/pool/\" + c for c in context_name_list]\n",
    "\n",
    "\n",
    "#anntation_lenged 정보\n",
    "annotation_legend = folder_name + \"annotations-legend.json\"\n",
    "with open(annotation_legend,\"r\") as f:\n",
    "    annotation_legend = json.load(f)"
   ]
  },
  {
   "cell_type": "code",
   "execution_count": 209,
   "metadata": {},
   "outputs": [],
   "source": [
    "#html 파일로부터 text만 추출해주는 함수\n",
    "def get_context_from_html(html_file):\n",
    "    html_file = re.sub(r\"\\n\",\"\", html_file)\n",
    "    return re.findall(\"(<pre.+>)(.+)(</pre>)\",html_file)[0][1]"
   ]
  },
  {
   "cell_type": "code",
   "execution_count": 210,
   "metadata": {},
   "outputs": [],
   "source": [
    "def return_entity(example):\n",
    "  result_dict = {}\n",
    "  entity = annotation_legend[example[\"classId\"]].split(\"-\")\n",
    "  result_dict['entity'] = entity[0]\n",
    "  result_dict['type'] = entity[1]\n",
    "  result_dict['text'] = example[\"offsets\"][0][\"text\"]\n",
    "  result_dict['index'] = example[\"offsets\"][0][\"start\"]\n",
    "  return result_dict"
   ]
  },
  {
   "cell_type": "code",
   "execution_count": 211,
   "metadata": {},
   "outputs": [],
   "source": [
    "h = html2text.HTML2Text()\n",
    "workbook = xlsxwriter.Workbook('demo.xlsx')\n",
    "  "
   ]
  },
  {
   "cell_type": "code",
   "execution_count": 212,
   "metadata": {},
   "outputs": [],
   "source": [
    "worksheet = workbook.add_worksheet()\n",
    "\n",
    "red = workbook.add_format({'color': 'red'})\n",
    "blue = workbook.add_format({'color': 'blue'})\n",
    "text_wrap = workbook.add_format({'text_wrap': True})\n",
    "worksheet.set_column('I:I', 100)\n",
    "worksheet.set_column('G:G', 15)\n",
    "worksheet.set_column('H:H', 15)\n",
    "\n",
    "worksheet.write(\"A1\", 'id')\n",
    "worksheet.write(\"B1\", 'sub_entity')\n",
    "worksheet.write(\"C1\", 'obj_entity')\n",
    "worksheet.write(\"D1\", 'sub_index')\n",
    "worksheet.write(\"E1\", 'obj_index')\n",
    "worksheet.write(\"F1\", 'relation')\n",
    "worksheet.write(\"G1\", 'sub_text')\n",
    "worksheet.write(\"H1\", 'obj_text')\n",
    "worksheet.write(\"I1\", 'sentence')\n",
    "\n",
    "index = 2\n",
    "\n",
    "for json_dir in relation_folder_paths:\n",
    "  html_dir = os.path.join(folder_name,\"plain.html/pool\", json_dir[-2:])\n",
    "  file_list = os.listdir(json_dir)\n",
    "  for json_file_name in file_list:\n",
    "    with open(os.path.join(json_dir, json_file_name), \"r\") as f:\n",
    "      json_file = json.load(f)\n",
    "    with open(os.path.join(html_dir, json_file_name[:-8] + 'plain.html'), \"r\") as f:\n",
    "      text = get_context_from_html(f.read())\n",
    "    text = h.handle(text)\n",
    "    text = re.sub(r\"\\n\",\" \", text)\n",
    "    entities = {}\n",
    "    for entity in json_file[\"entities\"]:\n",
    "      entities[f\"{entity['part']}|{entity['classId']}|{entity['offsets'][0]['start']},{entity['offsets'][0]['start'] + len(entity['offsets'][0]['text']) - 1}\"] = return_entity(entity)\n",
    "    for relation in json_file[\"relations\"]:\n",
    "      id = f\"{json_dir[-2:]}_{int(json_file_name[-17:-13]):05d}\"\n",
    "      entity1, entity2 = entities[relation[\"entities\"][0]], entities[relation[\"entities\"][1]]\n",
    "      sub_entity, obj_entity = (entity1, entity2) if entity1['entity'] == \"SUBJ\" else (entity2, entity1)\n",
    "      if sub_entity['index'] > obj_entity['index']:\n",
    "        colored_text = [text[:obj_entity['index']], blue, obj_entity['text'], text[obj_entity['index'] + len(obj_entity['text']):sub_entity['index']], red, sub_entity['text'], text[sub_entity['index'] + len(sub_entity['text']):]]\n",
    "      else:\n",
    "        colored_text = [text[:sub_entity['index']], red, sub_entity['text'], text[sub_entity['index'] + len(sub_entity['text']):obj_entity['index']], blue, obj_entity['text'], text[obj_entity['index'] + len(obj_entity['text']):]]\n",
    "      colored_text = list(filter(lambda x: x != '', colored_text))\n",
    "      colored_text.append(text_wrap)\n",
    "      worksheet.write(f\"A{index}\", id)\n",
    "      worksheet.write(f\"B{index}\", sub_entity['entity'])\n",
    "      worksheet.write(f\"C{index}\", obj_entity['entity'])\n",
    "      worksheet.write(f\"D{index}\", sub_entity['index'])\n",
    "      worksheet.write(f\"E{index}\", obj_entity['index'])\n",
    "      worksheet.write(f\"F{index}\", annotation_legend[relation['classId']])\n",
    "      worksheet.write(f\"G{index}\", sub_entity['text'])\n",
    "      worksheet.write(f\"H{index}\", obj_entity['text'])\n",
    "      worksheet.write_rich_string(f\"I{index}\", *colored_text)\n",
    "      index += 1\n",
    "workbook.close()"
   ]
  },
  {
   "cell_type": "code",
   "execution_count": 213,
   "metadata": {},
   "outputs": [],
   "source": [
    "def return_entity(example):\n",
    "  result_dict = {}\n",
    "  entity = annotation_legend[example[\"classId\"]].split(\"-\")\n",
    "  result_dict['entity'] = entity[0]\n",
    "  result_dict['type'] = entity[1]\n",
    "  result_dict['text'] = example[\"offsets\"][0][\"text\"]\n",
    "  result_dict['index'] = example[\"offsets\"][0][\"start\"]\n",
    "  return result_dict"
   ]
  }
 ],
 "metadata": {
  "interpreter": {
   "hash": "504aaf8a6ca5738be9b37d2e8fe9820b23cd1b35a9ea49884eeb556482b18318"
  },
  "kernelspec": {
   "display_name": "Python 3.8.5 64-bit ('venv': venv)",
   "language": "python",
   "name": "python3"
  },
  "language_info": {
   "codemirror_mode": {
    "name": "ipython",
    "version": 3
   },
   "file_extension": ".py",
   "mimetype": "text/x-python",
   "name": "python",
   "nbconvert_exporter": "python",
   "pygments_lexer": "ipython3",
   "version": "3.8.5"
  },
  "orig_nbformat": 4
 },
 "nbformat": 4,
 "nbformat_minor": 2
}
