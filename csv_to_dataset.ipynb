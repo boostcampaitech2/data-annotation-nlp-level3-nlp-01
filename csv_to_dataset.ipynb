{
 "cells": [
  {
   "cell_type": "markdown",
   "metadata": {},
   "source": [
    "# KLUE 데이터셋 확인"
   ]
  },
  {
   "cell_type": "code",
   "execution_count": 3,
   "metadata": {},
   "outputs": [
    {
     "name": "stderr",
     "output_type": "stream",
     "text": [
      "Reusing dataset klue (/opt/ml/.cache/huggingface/datasets/klue/re/1.0.0/55ff8f92b7a4b9842be6514ce0b4b5295b46d5e493f8bb5760da4be717018f90)\n"
     ]
    },
    {
     "data": {
      "application/vnd.jupyter.widget-view+json": {
       "model_id": "b4fbcac7a4164501bc555649838ad463",
       "version_major": 2,
       "version_minor": 0
      },
      "text/plain": [
       "  0%|          | 0/2 [00:00<?, ?it/s]"
      ]
     },
     "metadata": {},
     "output_type": "display_data"
    }
   ],
   "source": [
    "from datasets import load_dataset\n",
    "\n",
    "klue = load_dataset('klue', 're')"
   ]
  },
  {
   "cell_type": "code",
   "execution_count": 4,
   "metadata": {},
   "outputs": [
    {
     "data": {
      "text/plain": [
       "{'guid': 'klue-re-v1_train_00000',\n",
       " 'sentence': '〈Something〉는 조지 해리슨이 쓰고 비틀즈가 1969년 앨범 《Abbey Road》에 담은 노래다.',\n",
       " 'subject_entity': {'word': '비틀즈',\n",
       "  'start_idx': 24,\n",
       "  'end_idx': 26,\n",
       "  'type': 'ORG'},\n",
       " 'object_entity': {'word': '조지 해리슨',\n",
       "  'start_idx': 13,\n",
       "  'end_idx': 18,\n",
       "  'type': 'PER'},\n",
       " 'label': 0,\n",
       " 'source': 'wikipedia'}"
      ]
     },
     "execution_count": 4,
     "metadata": {},
     "output_type": "execute_result"
    }
   ],
   "source": [
    "klue['train'][0]"
   ]
  },
  {
   "cell_type": "code",
   "execution_count": 5,
   "metadata": {},
   "outputs": [],
   "source": [
    "label_dict = {\n",
    "    \"x\": 0,\n",
    "    \"no_relation\": 1,\n",
    "    \"role\": 2,\n",
    "    \"title\": 3,\n",
    "    \"colleagues\": 4,\n",
    "    \"enemy\": 5,\n",
    "    \"family\": 6,\n",
    "    \"alternate_names\": 7,\n",
    "    \"open\": 8,\n",
    "    \"possess\": 9,\n",
    "    \"production\": 10,\n",
    "    \"employee_of\": 11,\n",
    "    \"associate_with\": 12,\n",
    "    \"cause_of_death\": 13,\n",
    "}"
   ]
  },
  {
   "cell_type": "code",
   "execution_count": 6,
   "metadata": {},
   "outputs": [],
   "source": [
    "import pandas as pd\n",
    "\n",
    "tagging_file = pd.read_csv('메인 태깅.csv')"
   ]
  },
  {
   "cell_type": "code",
   "execution_count": 8,
   "metadata": {},
   "outputs": [
    {
     "data": {
      "text/html": [
       "<div>\n",
       "<style scoped>\n",
       "    .dataframe tbody tr th:only-of-type {\n",
       "        vertical-align: middle;\n",
       "    }\n",
       "\n",
       "    .dataframe tbody tr th {\n",
       "        vertical-align: top;\n",
       "    }\n",
       "\n",
       "    .dataframe thead th {\n",
       "        text-align: right;\n",
       "    }\n",
       "</style>\n",
       "<table border=\"1\" class=\"dataframe\">\n",
       "  <thead>\n",
       "    <tr style=\"text-align: right;\">\n",
       "      <th></th>\n",
       "      <th>id</th>\n",
       "      <th>sub_entity</th>\n",
       "      <th>obj_entity</th>\n",
       "      <th>sub_index</th>\n",
       "      <th>obj_index</th>\n",
       "      <th>relation</th>\n",
       "      <th>sub_text</th>\n",
       "      <th>obj_text</th>\n",
       "      <th>sentence</th>\n",
       "      <th>ann1 동규</th>\n",
       "      <th>ann2 석민</th>\n",
       "      <th>ann3 태현</th>\n",
       "    </tr>\n",
       "  </thead>\n",
       "  <tbody>\n",
       "    <tr>\n",
       "      <th>0</th>\n",
       "      <td>석민_00299</td>\n",
       "      <td>SUBJ</td>\n",
       "      <td>OBJ</td>\n",
       "      <td>21</td>\n",
       "      <td>10</td>\n",
       "      <td>no_relation</td>\n",
       "      <td>'어벤져스: 인피니티 워 제1부'</td>\n",
       "      <td>2014년 10월</td>\n",
       "      <td>이 영화의 제목은 2014년 10월, '어벤져스: 인피니티 워 제1부'로 결정, 발...</td>\n",
       "      <td>no_relation</td>\n",
       "      <td>no_relation</td>\n",
       "      <td>no_relation</td>\n",
       "    </tr>\n",
       "  </tbody>\n",
       "</table>\n",
       "</div>"
      ],
      "text/plain": [
       "         id sub_entity obj_entity  sub_index  obj_index     relation  \\\n",
       "0  석민_00299       SUBJ        OBJ         21         10  no_relation   \n",
       "\n",
       "             sub_text   obj_text  \\\n",
       "0  '어벤져스: 인피니티 워 제1부'  2014년 10월   \n",
       "\n",
       "                                            sentence      ann1 동규  \\\n",
       "0  이 영화의 제목은 2014년 10월, '어벤져스: 인피니티 워 제1부'로 결정, 발...  no_relation   \n",
       "\n",
       "       ann2 석민      ann3 태현  \n",
       "0  no_relation  no_relation  "
      ]
     },
     "execution_count": 8,
     "metadata": {},
     "output_type": "execute_result"
    }
   ],
   "source": [
    "tagging_file.head(1)"
   ]
  },
  {
   "cell_type": "code",
   "execution_count": 7,
   "metadata": {},
   "outputs": [],
   "source": [
    "re_dataset_dict = {\n",
    "    \"guid\": [],\n",
    "    \"sentence\": [],\n",
    "    \"subject_entity\": [],\n",
    "    \"object_entity\": [],\n",
    "    \"label\": [],\n",
    "    \"source\": [],\n",
    "}"
   ]
  },
  {
   "cell_type": "code",
   "execution_count": null,
   "metadata": {},
   "outputs": [],
   "source": [
    "def freq_label(tags):\n",
    "  voting_dict = {}\n",
    "  for idx, tag in enumerate(tags):\n",
    "    score = 1 if idx != 1 else 1.01 # 동규님꺼에 점수를 더줌\n",
    "    if tag not in voting_dict.keys():\n",
    "      voting_dict[tag] = score\n",
    "    else:\n",
    "      voting_dict[tag] += score\n",
    "  for key in voting_dict.keys():\n",
    "    score = 0\n",
    "    new_answer = ''\n",
    "    for answer in voting_dict[key].keys():\n",
    "      if voting_dict[key][answer] > score:\n",
    "        score = voting_dict[key][answer]\n",
    "        new_answer = answer\n",
    "  return int(new_answer)"
   ]
  },
  {
   "cell_type": "code",
   "execution_count": null,
   "metadata": {},
   "outputs": [],
   "source": [
    "for idx, tag in tagging_file.iterrows():\n",
    "  tags = [label_dict[tag['relation']], label_dict[tag['ann1 동규']], label_dict[tag['ann2 석민']], label_dict[tag['ann3 태현']]]\n",
    "  if 0 in tags:\n",
    "    continue\n",
    "  label = freq_label(tags)\n",
    "  re_dataset_dict[\"guid\"].append(f\"{idx:05d}\")\n",
    "  re_dataset_dict[\"sentence\"].append(tag['sentence'])\n",
    "  re_dataset_dict[\"source\"].append('wikipedia')\n",
    "  re_dataset_dict[\"label\"].append(label)\n",
    "  re_dataset_dict[\"subject_entity\"].append({\n",
    "    'word': tag[\"sub_text\"],\n",
    "    'start_idx': tag[\"sub_index\"],\n",
    "    'end_idx': tag[\"sub_index\"] + len(tag[\"sub_text\"]) - 1,\n",
    "    'type': tag[\"sub_entity\"]\n",
    "  })\n",
    "  re_dataset_dict[\"object_entity\"].append({\n",
    "    'word': tag[\"obj_text\"],\n",
    "    'start_idx': tag[\"obj_index\"],\n",
    "    'end_idx': tag[\"obj_index\"] + len(tag[\"obj_text\"]) - 1,\n",
    "    'type': tag[\"obj_entity\"]\n",
    "  })"
   ]
  },
  {
   "cell_type": "code",
   "execution_count": null,
   "metadata": {},
   "outputs": [],
   "source": [
    "from datasets import Dataset, DatasetDict\n",
    "\n",
    "train_dataset = Dataset.from_dict(re_dataset_dict)\n",
    "\n",
    "re_dict = {\n",
    "  'train': train_dataset\n",
    "}\n",
    "\n",
    "re_datasets = DatasetDict(re_dict)\n",
    "re_datasets.save_to_disk('./re_datasets')"
   ]
  }
 ],
 "metadata": {
  "interpreter": {
   "hash": "504aaf8a6ca5738be9b37d2e8fe9820b23cd1b35a9ea49884eeb556482b18318"
  },
  "kernelspec": {
   "display_name": "Python 3.8.5 64-bit ('venv': venv)",
   "language": "python",
   "name": "python3"
  },
  "language_info": {
   "codemirror_mode": {
    "name": "ipython",
    "version": 3
   },
   "file_extension": ".py",
   "mimetype": "text/x-python",
   "name": "python",
   "nbconvert_exporter": "python",
   "pygments_lexer": "ipython3",
   "version": "3.8.5"
  },
  "orig_nbformat": 4
 },
 "nbformat": 4,
 "nbformat_minor": 2
}
