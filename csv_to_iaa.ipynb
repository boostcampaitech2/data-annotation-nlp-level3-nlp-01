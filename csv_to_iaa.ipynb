{
 "cells": [
  {
   "cell_type": "code",
   "execution_count": 2,
   "metadata": {},
   "outputs": [],
   "source": [
    "import xlsxwriter\n",
    "import pandas as pd"
   ]
  },
  {
   "cell_type": "code",
   "execution_count": 3,
   "metadata": {},
   "outputs": [],
   "source": [
    "tagging_file = pd.read_csv('메인 태깅.csv')"
   ]
  },
  {
   "cell_type": "code",
   "execution_count": 14,
   "metadata": {},
   "outputs": [
    {
     "name": "stdout",
     "output_type": "stream",
     "text": [
      "id                                                     석민_00299\n",
      "sub_entity                                                 SUBJ\n",
      "obj_entity                                                  OBJ\n",
      "sub_index                                                    21\n",
      "obj_index                                                    10\n",
      "relation                                            no_relation\n",
      "sub_text                                     '어벤져스: 인피니티 워 제1부'\n",
      "obj_text                                              2014년 10월\n",
      "sentence      이 영화의 제목은 2014년 10월, '어벤져스: 인피니티 워 제1부'로 결정, 발...\n",
      "ann1 동규                                             no_relation\n",
      "ann2 석민                                             no_relation\n",
      "ann3 태현                                             no_relation\n",
      "Name: 0, dtype: object\n"
     ]
    }
   ],
   "source": [
    "for _, tag in tagging_file.iterrows():\n",
    "  print(tag)\n",
    "  break"
   ]
  },
  {
   "cell_type": "code",
   "execution_count": 5,
   "metadata": {},
   "outputs": [],
   "source": [
    "workbook = xlsxwriter.Workbook('iaa.xlsx')"
   ]
  },
  {
   "cell_type": "code",
   "execution_count": 6,
   "metadata": {},
   "outputs": [
    {
     "data": {
      "text/plain": [
       "0"
      ]
     },
     "execution_count": 6,
     "metadata": {},
     "output_type": "execute_result"
    }
   ],
   "source": [
    "worksheet = workbook.add_worksheet()\n",
    "\n",
    "worksheet.write(\"A1\", 'worker1')\n",
    "worksheet.write(\"B1\", 'worker2')\n",
    "worksheet.write(\"C1\", 'worker3')\n",
    "worksheet.write(\"D1\", 'worker4')"
   ]
  },
  {
   "cell_type": "code",
   "execution_count": 7,
   "metadata": {},
   "outputs": [],
   "source": [
    "relation_dict = {\n",
    "    \"x\": 0,\n",
    "    \"no_relation\": 1,\n",
    "    \"role\": 2,\n",
    "    \"title\": 3,\n",
    "    \"colleagues\": 4,\n",
    "    \"enemy\": 5,\n",
    "    \"family\": 6,\n",
    "    \"alternate_names\": 7,\n",
    "    \"open\": 8,\n",
    "    \"possess\": 9,\n",
    "    \"production\": 10,\n",
    "    \"employee_of\": 11,\n",
    "    \"associate_with\": 12,\n",
    "    \"cause_of_death\": 13,\n",
    "}"
   ]
  },
  {
   "cell_type": "code",
   "execution_count": 16,
   "metadata": {},
   "outputs": [
    {
     "ename": "KeyError",
     "evalue": "nan",
     "output_type": "error",
     "traceback": [
      "\u001b[0;31m---------------------------------------------------------------------------\u001b[0m",
      "\u001b[0;31mKeyError\u001b[0m                                  Traceback (most recent call last)",
      "\u001b[0;32m/tmp/ipykernel_4775/1240163675.py\u001b[0m in \u001b[0;36m<module>\u001b[0;34m\u001b[0m\n\u001b[1;32m      1\u001b[0m \u001b[0mindex\u001b[0m \u001b[0;34m=\u001b[0m \u001b[0;36m2\u001b[0m\u001b[0;34m\u001b[0m\u001b[0;34m\u001b[0m\u001b[0m\n\u001b[1;32m      2\u001b[0m \u001b[0;32mfor\u001b[0m \u001b[0m_\u001b[0m\u001b[0;34m,\u001b[0m \u001b[0mtag\u001b[0m \u001b[0;32min\u001b[0m \u001b[0mtagging_file\u001b[0m\u001b[0;34m.\u001b[0m\u001b[0miterrows\u001b[0m\u001b[0;34m(\u001b[0m\u001b[0;34m)\u001b[0m\u001b[0;34m:\u001b[0m\u001b[0;34m\u001b[0m\u001b[0;34m\u001b[0m\u001b[0m\n\u001b[0;32m----> 3\u001b[0;31m   \u001b[0mtags\u001b[0m \u001b[0;34m=\u001b[0m \u001b[0;34m[\u001b[0m\u001b[0mrelation_dict\u001b[0m\u001b[0;34m[\u001b[0m\u001b[0mtag\u001b[0m\u001b[0;34m[\u001b[0m\u001b[0;34m'relation'\u001b[0m\u001b[0;34m]\u001b[0m\u001b[0;34m]\u001b[0m\u001b[0;34m,\u001b[0m \u001b[0mrelation_dict\u001b[0m\u001b[0;34m[\u001b[0m\u001b[0mtag\u001b[0m\u001b[0;34m[\u001b[0m\u001b[0;34m'ann1 동규'\u001b[0m\u001b[0;34m]\u001b[0m\u001b[0;34m]\u001b[0m\u001b[0;34m,\u001b[0m \u001b[0mrelation_dict\u001b[0m\u001b[0;34m[\u001b[0m\u001b[0mtag\u001b[0m\u001b[0;34m[\u001b[0m\u001b[0;34m'ann2 석민'\u001b[0m\u001b[0;34m]\u001b[0m\u001b[0;34m]\u001b[0m\u001b[0;34m,\u001b[0m \u001b[0mrelation_dict\u001b[0m\u001b[0;34m[\u001b[0m\u001b[0mtag\u001b[0m\u001b[0;34m[\u001b[0m\u001b[0;34m'ann3 태현'\u001b[0m\u001b[0;34m]\u001b[0m\u001b[0;34m]\u001b[0m\u001b[0;34m]\u001b[0m\u001b[0;34m\u001b[0m\u001b[0;34m\u001b[0m\u001b[0m\n\u001b[0m\u001b[1;32m      4\u001b[0m   \u001b[0;32mif\u001b[0m \u001b[0;36m0\u001b[0m \u001b[0;32min\u001b[0m \u001b[0mtags\u001b[0m\u001b[0;34m:\u001b[0m\u001b[0;34m\u001b[0m\u001b[0;34m\u001b[0m\u001b[0m\n\u001b[1;32m      5\u001b[0m     \u001b[0;32mcontinue\u001b[0m\u001b[0;34m\u001b[0m\u001b[0;34m\u001b[0m\u001b[0m\n",
      "\u001b[0;31mKeyError\u001b[0m: nan"
     ]
    }
   ],
   "source": [
    "index = 2\n",
    "for _, tag in tagging_file.iterrows():\n",
    "  tags = [relation_dict[tag['relation']], relation_dict[tag['ann1 동규']], relation_dict[tag['ann2 석민']], relation_dict[tag['ann3 태현']]]\n",
    "  if 0 in tags:\n",
    "    continue\n",
    "  worksheet.write(f\"A{index}\", tags[0])\n",
    "  worksheet.write(f\"B{index}\", tags[1])\n",
    "  worksheet.write(f\"C{index}\", tags[2])\n",
    "  worksheet.write(f\"D{index}\", tags[3])\n",
    "  index += 1\n",
    "workbook.close()"
   ]
  }
 ],
 "metadata": {
  "interpreter": {
   "hash": "504aaf8a6ca5738be9b37d2e8fe9820b23cd1b35a9ea49884eeb556482b18318"
  },
  "kernelspec": {
   "display_name": "Python 3.8.5 64-bit ('venv': venv)",
   "language": "python",
   "name": "python3"
  },
  "language_info": {
   "codemirror_mode": {
    "name": "ipython",
    "version": 3
   },
   "file_extension": ".py",
   "mimetype": "text/x-python",
   "name": "python",
   "nbconvert_exporter": "python",
   "pygments_lexer": "ipython3",
   "version": "3.8.5"
  },
  "orig_nbformat": 4
 },
 "nbformat": 4,
 "nbformat_minor": 2
}
